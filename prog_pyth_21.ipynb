{
 "cells": [
  {
   "cell_type": "markdown",
   "id": "be9b5043",
   "metadata": {},
   "source": [
    "# 1."
   ]
  },
  {
   "cell_type": "code",
   "execution_count": 2,
   "id": "29ccc24a",
   "metadata": {},
   "outputs": [
    {
     "name": "stdout",
     "output_type": "stream",
     "text": [
      "[6, 7, 8, 9, 1]\n"
     ]
    }
   ],
   "source": [
    "# code:\n",
    "def next_in_line(lst, num):\n",
    "    if not lst:\n",
    "        return \"No list has been selected\"\n",
    "    lst.append(num)\n",
    "    lst.pop(0)\n",
    "    return lst\n",
    "\n",
    "# Test cases\n",
    "print(next_in_line([5, 6, 7, 8, 9], 1))       "
   ]
  },
  {
   "cell_type": "markdown",
   "id": "34c3f5b1",
   "metadata": {},
   "source": [
    "# 2."
   ]
  },
  {
   "cell_type": "code",
   "execution_count": 3,
   "id": "8d149654",
   "metadata": {},
   "outputs": [
    {
     "name": "stdout",
     "output_type": "stream",
     "text": [
      "65700\n"
     ]
    }
   ],
   "source": [
    "# code:\n",
    "def get_budgets(lst):\n",
    "    return sum(person['budget'] for person in lst)\n",
    "\n",
    "# Test cases\n",
    "print(get_budgets([\n",
    "    { \"name\": \"John\", \"age\": 21, \"budget\": 23000 },\n",
    "    { \"name\": \"Steve\", \"age\": 32, \"budget\": 40000 },\n",
    "    { \"name\": \"Martin\", \"age\": 16, \"budget\": 2700 }\n",
    "])) "
   ]
  },
  {
   "cell_type": "markdown",
   "id": "222d7db3",
   "metadata": {},
   "source": [
    "# 3."
   ]
  },
  {
   "cell_type": "code",
   "execution_count": 5,
   "id": "d417462b",
   "metadata": {},
   "outputs": [
    {
     "name": "stdout",
     "output_type": "stream",
     "text": [
      "ehllo\n"
     ]
    }
   ],
   "source": [
    "# code:\n",
    "def alphabet_soup(s):\n",
    "    return ''.join(sorted(s))\n",
    "\n",
    "# Test cases\n",
    "print(alphabet_soup(\"hello\"))  # Output: \"ehllo\""
   ]
  },
  {
   "cell_type": "markdown",
   "id": "b8b0e7bc",
   "metadata": {},
   "source": [
    "# 4."
   ]
  },
  {
   "cell_type": "code",
   "execution_count": 6,
   "id": "18bfbbdb",
   "metadata": {},
   "outputs": [
    {
     "name": "stdout",
     "output_type": "stream",
     "text": [
      "18193.97\n"
     ]
    }
   ],
   "source": [
    "# code:\n",
    "def compound_interest(p, t, r, n):\n",
    "    A = p * (1 + r/n)**(n*t)\n",
    "    return round(A, 2)\n",
    "\n",
    "# Example usage\n",
    "print(compound_interest(10000, 10, 0.06, 12))  # compound_interest(amount, time(years), interest_rate, coumponunded_period )"
   ]
  },
  {
   "cell_type": "markdown",
   "id": "1896bd84",
   "metadata": {},
   "source": [
    "# 5."
   ]
  },
  {
   "cell_type": "code",
   "execution_count": 7,
   "id": "622db4cb",
   "metadata": {},
   "outputs": [
    {
     "name": "stdout",
     "output_type": "stream",
     "text": [
      "[9, 2, 16]\n",
      "[81, 123]\n"
     ]
    }
   ],
   "source": [
    "# code:\n",
    "def return_only_integer(lst):\n",
    "    return [x for x in lst if isinstance(x, int)]\n",
    "\n",
    "# Examples\n",
    "print(return_only_integer([9, 2, \"space\", \"car\", \"lion\", 16]))  # Output: [9, 2, 16]\n",
    "print(return_only_integer([\"hello\", 81, \"basketball\", 123, \"fox\"]))  # Output: [81, 123]"
   ]
  },
  {
   "cell_type": "code",
   "execution_count": null,
   "id": "49a21683",
   "metadata": {},
   "outputs": [],
   "source": []
  }
 ],
 "metadata": {
  "kernelspec": {
   "display_name": "Python 3 (ipykernel)",
   "language": "python",
   "name": "python3"
  },
  "language_info": {
   "codemirror_mode": {
    "name": "ipython",
    "version": 3
   },
   "file_extension": ".py",
   "mimetype": "text/x-python",
   "name": "python",
   "nbconvert_exporter": "python",
   "pygments_lexer": "ipython3",
   "version": "3.11.5"
  }
 },
 "nbformat": 4,
 "nbformat_minor": 5
}
